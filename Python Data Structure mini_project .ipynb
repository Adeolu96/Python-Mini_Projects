{
 "cells": [
  {
   "cell_type": "code",
   "execution_count": null,
   "id": "eb164044-8fca-464b-b605-a441317480e2",
   "metadata": {},
   "outputs": [],
   "source": [
    "#Instructions :\n",
    "#Tuples:\n",
    "\n",
    "#Create a tuple called \"person\" that contains a string \"John\" as a name, 25 as an age and \"male\" as a gender.\n",
    "#Print the name of the person\n",
    "#Try to change the age of the person and see what happens.\n",
    "#Lists:\n",
    "#Create a list called \"grocery_list\" that contains \"milk\", \"bread\", \"eggs\", \"bananas\"\n",
    "#Print the first item in the grocery_list.\n",
    "#Add \"chocolate\" to the grocery_list\n",
    "#Remove \"milk\" from the grocery_list\n",
    "#Sets:\n",
    "#Create a set called \"unique_numbers\" that contains the integers 1, 2, 3, 4, 5\n",
    "#Add number 6 to the unique_numbers\n",
    "#Print the length of the unique_numbers\n",
    "#Try to add a duplicate number and see what happens\n",
    "#Dictionaries:\n",
    "#Create a dictionary called \"employee\" that contains the keys \"name\", \"age\", \"position\" and \"salary\", with their corresponding values \"John\", 25, \"Developer\" and 3000 respectively.\n",
    "#Print the employee's name\n",
    "#Change the employee's position to \"Manager\"\n",
    "#Add a new key \"email\" with the value \"john@example.com\" to the employee dictionary"
   ]
  },
  {
   "cell_type": "code",
   "execution_count": 39,
   "id": "a6a1c721-5880-4d19-ab5e-531322f1f79b",
   "metadata": {},
   "outputs": [
    {
     "name": "stdout",
     "output_type": "stream",
     "text": [
      "John\n",
      "30\n",
      "['milk', 'bread', 'eggs', 'bananas']\n",
      "milk\n",
      "['milk', 'bread', 'eggs', 'bananas', 'chocolate']\n",
      "['bread', 'eggs', 'bananas', 'chocolate']\n",
      "{1, 2, 3, 4, 5, 6}\n",
      "6\n",
      "{1, 2, 3, 4, 5, 6}\n",
      "{1, 2, 3, 4, 5, 6}\n",
      "{'name': 'John', 'age': 25, 'position': 'Developer', 'salary': 3000}\n",
      "John\n",
      "{'name': 'John', 'age': 25, 'position': 'Manager', 'salary': 3000}\n",
      "{'name': 'John', 'age': 25, 'position': 'Manager', 'salary': 3000, 'email': 'john@example.com'}\n"
     ]
    }
   ],
   "source": [
    "#Answers\n",
    "\n",
    "#Tuples:\n",
    "#Create a tuple called \"person\" that contains a string \"John\" as a name, 25 as an age and \"male\" as a gender.\n",
    "name = (\"John\")\n",
    "#Print the name of the person\n",
    "print(name)\n",
    "age = (25)\n",
    "gender = (\"male\")\n",
    "#Try to change the age of the person and see what happens.\n",
    "age = (30)\n",
    "print(age)\n",
    "\n",
    "#Lists:\n",
    "#Create a list called \"grocery_list\" that contains \"milk\", \"bread\", \"eggs\", \"bananas\"\n",
    "grocery_list = [\"milk\", \"bread\", \"eggs\", \"bananas\"]\n",
    "print(grocery_list)\n",
    "#Print the first item in the grocery_list\n",
    "print(grocery_list[0])\n",
    "#Add \"chocolate\" to the grocery_list\n",
    "grocery_list.append(\"chocolate\")\n",
    "print(grocery_list)\n",
    "#Remove \"milk\" from the grocery_list\n",
    "grocery_list.remove(\"milk\")\n",
    "print(grocery_list)\n",
    "\n",
    "#Sets:\n",
    "#Create a set called \"unique_numbers\" that contains the integers 1, 2, 3, 4, 5\n",
    "unique_numbers = {1,2,3,4,5}\n",
    "#Add number 6 to the unique_numbers\n",
    "unique_numbers.add(6)\n",
    "print(unique_numbers)\n",
    "#Print the length of the unique_numbers\n",
    "print(len(unique_numbers))\n",
    "#Try to add a duplicate number and see what happens\n",
    "print(unique_numbers)  # Output: {1, 2, 3, 4, 5, 6}\n",
    "unique_numbers.add(5)  # Trying to add a duplicate number\n",
    "print(unique_numbers)  # Output: {1, 2, 3, 4, 5, 6} (no change)\n",
    "\n",
    "#Dictionaries:\n",
    "#Create a dictionary called \"employee\" that contains the keys \"name\", \"age\", \"position\" and \"salary\", with their corresponding values \"John\", 25, \"Developer\" and 3000 respectively.\n",
    "employee = {'name': 'John', 'age': 25, 'position': 'Developer', 'salary': 3000}\n",
    "print(employee)\n",
    "#Print the employee's name\n",
    "x = employee.get(\"name\")\n",
    "print(x)\n",
    "#Change the employee's position to \"Manager\"\n",
    "employee.update({\"position\": \"Manager\"})\n",
    "print(employee)\n",
    "#Add a new key \"email\" with the value \"john@example.com\" to the employee dictionary\n",
    "employee.update({\"email\": \"john@example.com\"})\n",
    "print(employee)"
   ]
  },
  {
   "cell_type": "code",
   "execution_count": null,
   "id": "783d4726-bda4-45ca-a920-011ef5818811",
   "metadata": {},
   "outputs": [],
   "source": []
  }
 ],
 "metadata": {
  "kernelspec": {
   "display_name": "Python 3 (ipykernel)",
   "language": "python",
   "name": "python3"
  },
  "language_info": {
   "codemirror_mode": {
    "name": "ipython",
    "version": 3
   },
   "file_extension": ".py",
   "mimetype": "text/x-python",
   "name": "python",
   "nbconvert_exporter": "python",
   "pygments_lexer": "ipython3",
   "version": "3.12.4"
  }
 },
 "nbformat": 4,
 "nbformat_minor": 5
}
